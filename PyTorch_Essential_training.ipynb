{
  "nbformat": 4,
  "nbformat_minor": 0,
  "metadata": {
    "colab": {
      "provenance": [],
      "gpuType": "T4",
      "authorship_tag": "ABX9TyOaGuC0Mq7PLjlFIkR12HWT",
      "include_colab_link": true
    },
    "kernelspec": {
      "name": "python3",
      "display_name": "Python 3"
    },
    "language_info": {
      "name": "python"
    },
    "accelerator": "GPU"
  },
  "cells": [
    {
      "cell_type": "markdown",
      "metadata": {
        "id": "view-in-github",
        "colab_type": "text"
      },
      "source": [
        "<a href=\"https://colab.research.google.com/github/JohnPaulPrabhu/Automatic-number-plate-recognition/blob/main/PyTorch_Essential_training.ipynb\" target=\"_parent\"><img src=\"https://colab.research.google.com/assets/colab-badge.svg\" alt=\"Open In Colab\"/></a>"
      ]
    },
    {
      "cell_type": "code",
      "execution_count": 1,
      "metadata": {
        "colab": {
          "base_uri": "https://localhost:8080/"
        },
        "id": "zOBlrGKdFj2J",
        "outputId": "abc9961b-53f2-4182-851a-614581672a16"
      },
      "outputs": [
        {
          "output_type": "stream",
          "name": "stdout",
          "text": [
            "tensor([[1, 1, 1],\n",
            "        [1, 1, 1]])\n",
            "tensor([[ 1,  3,  5],\n",
            "        [ 7,  9, 11]])\n",
            "torch.Size([2, 3])\n",
            "torch.Size([2, 3])\n"
          ]
        }
      ],
      "source": [
        "import torch as t\n",
        "\n",
        "a = t.tensor([[1,2,3],[4,5,6]])\n",
        "b = t.tensor([[0,1,2],[3,4,5]])\n",
        "\n",
        "print(a-b)\n",
        "print(a+b)\n",
        "print(a.size())\n",
        "print(b.size())"
      ]
    },
    {
      "cell_type": "code",
      "source": [
        "if t.cuda.is_available():\n",
        "  device = \"cuda\"\n",
        "else:\n",
        "  device = 'cpu'\n",
        "\n",
        "a = t.tensor([[1,2,3],[4,5,6]], device=device)\n",
        "b = t.tensor([[0,1,2],[3,4,5]], device=device)\n",
        "\n",
        "print(a*b)\n",
        "# print(t.matmul(a,b)) matrix multiplication needs correct matrix size"
      ],
      "metadata": {
        "colab": {
          "base_uri": "https://localhost:8080/"
        },
        "id": "iP7s7TKWHdec",
        "outputId": "94d6c416-0310-4f90-f56a-9abda29d4380"
      },
      "execution_count": 2,
      "outputs": [
        {
          "output_type": "stream",
          "name": "stdout",
          "text": [
            "tensor([[ 0,  2,  6],\n",
            "        [12, 20, 30]], device='cuda:0')\n"
          ]
        }
      ]
    },
    {
      "cell_type": "code",
      "source": [
        "emp = t.empty([2,3])\n",
        "print(emp)\n",
        "\n",
        "zeros = t.zeros(2,3)\n",
        "print(zeros)\n",
        "\n",
        "ones = t.ones([2,3], dtype=t.int16)\n",
        "print(ones)"
      ],
      "metadata": {
        "colab": {
          "base_uri": "https://localhost:8080/"
        },
        "id": "2fqPy43Hh-XJ",
        "outputId": "97903211-69f7-4225-d76f-0305826032c9"
      },
      "execution_count": 3,
      "outputs": [
        {
          "output_type": "stream",
          "name": "stdout",
          "text": [
            "tensor([[-3.0017e-05,  4.3824e-41, -3.0017e-05],\n",
            "        [ 4.3824e-41,  0.0000e+00,  0.0000e+00]])\n",
            "tensor([[0., 0., 0.],\n",
            "        [0., 0., 0.]])\n",
            "tensor([[1, 1, 1],\n",
            "        [1, 1, 1]], dtype=torch.int16)\n"
          ]
        }
      ]
    },
    {
      "cell_type": "code",
      "source": [
        "# Generate a tensor with a uniform distribution of random numbers\n",
        "uniform_tensor = t.rand([2, 3])\n",
        "print(uniform_tensor)\n",
        "\n",
        "# Generate a tensor with a normal (Gaussian) distribution of random numbers\n",
        "normal_tensor = t.randn([2, 3])\n",
        "print(normal_tensor)\n",
        "\n",
        "'''\n",
        "- Generates a tensor with random integers\n",
        "- The parameters 5 and 10 specify the range: 5 (inclusive) to 10 (exclusive)\n",
        "- The shape of the output tensor is [2, 3]\n",
        "'''\n",
        "random_integer_tensor = t.randint(5, 10, [2, 3])\n",
        "print(random_integer_tensor)\n",
        "\n",
        "# Create a tensor of ones with the same shape as the randomly generated integer tensor\n",
        "ones_like_tensor = t.ones_like(random_integer_tensor)\n",
        "print(ones_like_tensor)\n"
      ],
      "metadata": {
        "colab": {
          "base_uri": "https://localhost:8080/"
        },
        "id": "PpomrJcbiHcK",
        "outputId": "36bd4b8c-1ec3-4819-cc52-f76c303decd1"
      },
      "execution_count": 4,
      "outputs": [
        {
          "output_type": "stream",
          "name": "stdout",
          "text": [
            "tensor([[0.2632, 0.9839, 0.8049],\n",
            "        [0.8539, 0.9912, 0.0879]])\n",
            "tensor([[-1.3150,  1.3574,  0.3367],\n",
            "        [ 0.0399,  0.3614,  0.8905]])\n",
            "tensor([[5, 8, 9],\n",
            "        [6, 7, 8]])\n",
            "tensor([[1, 1, 1],\n",
            "        [1, 1, 1]])\n"
          ]
        }
      ]
    },
    {
      "cell_type": "code",
      "source": [
        "tensors = t.tensor([1,2,3,4]).reshape([2,2])\n",
        "print(tensors)"
      ],
      "metadata": {
        "colab": {
          "base_uri": "https://localhost:8080/"
        },
        "id": "CpCnqAhXGc97",
        "outputId": "15c75ccb-72a2-42d1-e08d-b677c6c22b5e"
      },
      "execution_count": 5,
      "outputs": [
        {
          "output_type": "stream",
          "name": "stdout",
          "text": [
            "tensor([[1, 2],\n",
            "        [3, 4]])\n"
          ]
        }
      ]
    },
    {
      "cell_type": "code",
      "source": [
        "'''\n",
        "TO check the attribute of tensor, we can use the following functions on tensors\n",
        "1. tensor.device - to check the device the tensor is reside in\n",
        "2. tensor.dtype - Check the data type of the tensor\n",
        "3. tensor.shape - Gives the dimention of the tensor\n",
        "4. tensor.ndim - Provides the information about the dimension of the tensor\n",
        "'''\n",
        "tensor = t.tensor([[1,2,3], [3,4,5]])\n",
        "\n",
        "print(\"Device that tensor is in: \", tensor.device)\n",
        "\n",
        "print(\"Data type of the tensor: \", tensor.dtype)\n",
        "\n",
        "print(\"Dimension of the tensor is: \", tensor.shape)\n",
        "\n",
        "print(\"Dimensio of the tensor is: \", tensor.ndim)"
      ],
      "metadata": {
        "colab": {
          "base_uri": "https://localhost:8080/"
        },
        "id": "agIHnryJA-Jz",
        "outputId": "5d974f22-0a3c-4d72-d37e-e75d23683d58"
      },
      "execution_count": 6,
      "outputs": [
        {
          "output_type": "stream",
          "name": "stdout",
          "text": [
            "Device that tensor is in:  cpu\n",
            "Data type of the tensor:  torch.int64\n",
            "Dimension of the tensor is:  torch.Size([2, 3])\n",
            "Dimensio of the tensor is:  2\n"
          ]
        }
      ]
    },
    {
      "cell_type": "code",
      "source": [
        "\"\"\"\n",
        "We have different types of the data types available in PyTorch\n",
        "1. int8\n",
        "2. int16\n",
        "3. int32\n",
        "4. int64\n",
        "5. uint8\n",
        "6. uint16\n",
        "7. uint32\n",
        "8. uint64\n",
        "9. float8\n",
        "10. float16\n",
        "11. float32\n",
        "12. float64\n",
        "and so on\n",
        "There are multiple data types availble in PyTorch\n",
        "\"\"\"\n",
        "one_dim_tensor = t.tensor([1,2,3,4,5,6,255], dtype=t.uint8)\n",
        "print(one_dim_tensor)\n",
        "\n",
        "# Incase we need to cast an another type to existing tensor, then we can do the following\n",
        "one_dim_tensor = one_dim_tensor.float()\n",
        "print(one_dim_tensor.dtype)\n",
        "\n",
        "# We can also use the .to function to change the data type or device\n",
        "one_dim_tensor = one_dim_tensor.to(dtype=t.float16)\n",
        "print(one_dim_tensor)"
      ],
      "metadata": {
        "colab": {
          "base_uri": "https://localhost:8080/"
        },
        "id": "aP1EmB88EMGV",
        "outputId": "581e4ab1-8afc-4aa6-c08a-00137d7e94b1"
      },
      "execution_count": 7,
      "outputs": [
        {
          "output_type": "stream",
          "name": "stdout",
          "text": [
            "tensor([  1,   2,   3,   4,   5,   6, 255], dtype=torch.uint8)\n",
            "torch.float32\n",
            "tensor([  1.,   2.,   3.,   4.,   5.,   6., 255.], dtype=torch.float16)\n"
          ]
        }
      ]
    },
    {
      "cell_type": "code",
      "source": [
        "'''\n",
        "- When we run the below code, each time we will get different values\n",
        "- To avoid it, we can use something called seed\n",
        "'''\n",
        "t.manual_seed(11)\n",
        "\n",
        "#Create random samples from normal distribution\n",
        "random_sample = t.randn(3, 3)\n",
        "print(random_sample)\n",
        "\n",
        "# Create random sample from Uniform distribution\n",
        "uniform_sample = t.rand(3, 3)\n",
        "print(uniform_sample)\n",
        "\n",
        "# Create random integers\n",
        "rand_int = t.randint(1,10,(3,3))\n",
        "print(rand_int)"
      ],
      "metadata": {
        "colab": {
          "base_uri": "https://localhost:8080/"
        },
        "id": "kAsCVJ0SSMT-",
        "outputId": "85157cb4-da60-497b-aa49-c859e6ac30fc"
      },
      "execution_count": 19,
      "outputs": [
        {
          "output_type": "stream",
          "name": "stdout",
          "text": [
            "tensor([[ 0.7376,  1.9459, -0.6995],\n",
            "        [-1.3023, -0.5133, -0.2696],\n",
            "        [ 0.2462,  0.4839,  0.4504]])\n",
            "tensor([[0.8709, 0.7231, 0.8364],\n",
            "        [0.5820, 0.8395, 0.0595],\n",
            "        [0.4315, 0.4425, 0.2622]])\n",
            "tensor([[9, 2, 5],\n",
            "        [1, 5, 5],\n",
            "        [8, 4, 5]])\n"
          ]
        }
      ]
    },
    {
      "cell_type": "code",
      "source": [
        "'''\n",
        "We can create tensor based on other tensor\n",
        "There are three functions we can use to achieve this result\n",
        "1. rand_like - This will provide the values from uniform distribution that has\n",
        "               same size as the mentioned tensor\n",
        "2. ones_like - Create tensors of 1\n",
        "3. full_like - Create tensors of mentioned number\n",
        "'''\n",
        "import torch as t\n",
        "ten = t.tensor([[1,2,3,4],[5,6,7,8]])\n",
        "\n",
        "rand_likes = t.rand_like(uniform_sample)\n",
        "print(rand_likes)\n",
        "\n",
        "one = t.ones_like(ten)\n",
        "print(one)\n",
        "\n",
        "full = t.full_like(ten, 333)\n",
        "print(full)"
      ],
      "metadata": {
        "colab": {
          "base_uri": "https://localhost:8080/"
        },
        "id": "7daCGF2LWVj1",
        "outputId": "39cbb1ca-bc05-4a35-89e0-8b642ad4eb37"
      },
      "execution_count": 29,
      "outputs": [
        {
          "output_type": "stream",
          "name": "stdout",
          "text": [
            "tensor([[0.2264, 0.5853, 0.1851],\n",
            "        [0.4920, 0.7171, 0.4578],\n",
            "        [0.3566, 0.4831, 0.6752]])\n",
            "tensor([[1, 1, 1, 1],\n",
            "        [1, 1, 1, 1]])\n",
            "tensor([[333, 333, 333, 333],\n",
            "        [333, 333, 333, 333]])\n"
          ]
        }
      ]
    },
    {
      "cell_type": "code",
      "source": [],
      "metadata": {
        "id": "mDo_YJlUYgPG"
      },
      "execution_count": null,
      "outputs": []
    }
  ]
}